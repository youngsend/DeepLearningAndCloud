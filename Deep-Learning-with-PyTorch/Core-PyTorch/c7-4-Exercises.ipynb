{
 "cells": [
  {
   "cell_type": "markdown",
   "metadata": {},
   "source": [
    "- Use `torchvision` to implement random cropping of the data.\n",
    "    - How are the resulting images different from the uncropped originals?\n",
    "    - What happens when you request the same image a second time?\n",
    "    - What is the result of training using randomly cropped images?"
   ]
  },
  {
   "cell_type": "code",
   "execution_count": 1,
   "metadata": {},
   "outputs": [],
   "source": [
    "from PIL import Image\n",
    "from torchvision import datasets, transforms\n",
    "import torch.nn as nn\n",
    "import torch\n",
    "from matplotlib import pyplot as plt\n",
    "import torch.optim as optim"
   ]
  },
  {
   "cell_type": "markdown",
   "metadata": {},
   "source": [
    "- もともとのサイズは32x32で、random cropのサイズは16x16にする："
   ]
  },
  {
   "cell_type": "code",
   "execution_count": 2,
   "metadata": {},
   "outputs": [],
   "source": [
    "data_path = '../data-unversioned/p1ch7/'\n",
    "cifar10 = datasets.CIFAR10(data_path, train=True, download=False,\n",
    "                          transform=transforms.Compose([\n",
    "                              transforms.ToTensor(),\n",
    "                              transforms.Normalize((0.4915, 0.4823, 0.4468),\n",
    "                                                   (0.2470, 0.2435, 0.2616)),\n",
    "                              transforms.RandomCrop(size=(16, 16))\n",
    "                          ]))\n",
    "cifar10_val = datasets.CIFAR10(data_path, train=False, download=False,\n",
    "                              transform=transforms.Compose([\n",
    "                                  transforms.ToTensor(),\n",
    "                                  transforms.Normalize((0.4915, 0.4823, 0.4468),\n",
    "                                                       (0.2470, 0.2435, 0.2616)),\n",
    "                                  transforms.RandomCrop(size=(16, 16))\n",
    "                              ]))"
   ]
  },
  {
   "cell_type": "code",
   "execution_count": 3,
   "metadata": {},
   "outputs": [],
   "source": [
    "label_map = {0: 0, 2: 1}\n",
    "class_names = ['airplane', 'bird']\n",
    "cifar2 = [(img, label_map[label])\n",
    "         for img, label in cifar10\n",
    "         if label in [0, 2]]\n",
    "cifar2_val = [(img, label_map[label])\n",
    "             for img, label in cifar10_val\n",
    "             if label in [0, 2]]"
   ]
  },
  {
   "cell_type": "code",
   "execution_count": 9,
   "metadata": {},
   "outputs": [
    {
     "name": "stderr",
     "output_type": "stream",
     "text": [
      "Clipping input data to the valid range for imshow with RGB data ([0..1] for floats or [0..255] for integers).\n"
     ]
    },
    {
     "data": {
      "image/png": "[encoded data removed]",
      "text/plain": [
       "<Figure size 432x288 with 1 Axes>"
      ]
     },
     "metadata": {
      "needs_background": "light"
     },
     "output_type": "display_data"
    }
   ],
   "source": [
    "img, _ = cifar10[0]\n",
    "plt.imshow(img.permute(1, 2, 0))\n",
    "plt.show()"
   ]
  },
  {
   "cell_type": "code",
   "execution_count": 10,
   "metadata": {},
   "outputs": [
    {
     "name": "stderr",
     "output_type": "stream",
     "text": [
      "Clipping input data to the valid range for imshow with RGB data ([0..1] for floats or [0..255] for integers).\n"
     ]
    },
    {
     "data": {
      "image/png": "[encoded data removed]",
      "text/plain": [
       "<Figure size 432x288 with 1 Axes>"
      ]
     },
     "metadata": {
      "needs_background": "light"
     },
     "output_type": "display_data"
    }
   ],
   "source": [
    "img, _ = cifar10[0]\n",
    "plt.imshow(img.permute(1, 2, 0))\n",
    "plt.show()"
   ]
  },
  {
   "cell_type": "markdown",
   "metadata": {},
   "source": [
    "- random cropはcifar10に対して有効ですが、cifar2に対しては既に無効になっているそうです。"
   ]
  },
  {
   "cell_type": "code",
   "execution_count": 11,
   "metadata": {
    "scrolled": true
   },
   "outputs": [
    {
     "name": "stderr",
     "output_type": "stream",
     "text": [
      "Clipping input data to the valid range for imshow with RGB data ([0..1] for floats or [0..255] for integers).\n"
     ]
    },
    {
     "data": {
      "image/png": "[encoded data removed]",
      "text/plain": [
       "<Figure size 432x288 with 1 Axes>"
      ]
     },
     "metadata": {
      "needs_background": "light"
     },
     "output_type": "display_data"
    }
   ],
   "source": [
    "img, _ = cifar2[0]\n",
    "plt.imshow(img.permute(1, 2, 0))\n",
    "plt.show()"
   ]
  },
  {
   "cell_type": "code",
   "execution_count": 12,
   "metadata": {},
   "outputs": [
    {
     "name": "stderr",
     "output_type": "stream",
     "text": [
      "Clipping input data to the valid range for imshow with RGB data ([0..1] for floats or [0..255] for integers).\n"
     ]
    },
    {
     "data": {
      "image/png": "[encoded data removed]",
      "text/plain": [
       "<Figure size 432x288 with 1 Axes>"
      ]
     },
     "metadata": {
      "needs_background": "light"
     },
     "output_type": "display_data"
    }
   ],
   "source": [
    "img, _ = cifar2[0]\n",
    "plt.imshow(img.permute(1, 2, 0))\n",
    "plt.show()"
   ]
  },
  {
   "cell_type": "markdown",
   "metadata": {},
   "source": [
    "- image sizeは16x16になるので、first layerのLinearのinput featuresは3x16x16=768になる："
   ]
  },
  {
   "cell_type": "code",
   "execution_count": 5,
   "metadata": {},
   "outputs": [
    {
     "name": "stdout",
     "output_type": "stream",
     "text": [
      "Epoch: 0, Loss: 0.713974\n",
      "Epoch: 1, Loss: 0.541532\n",
      "Epoch: 2, Loss: 0.662847\n",
      "Epoch: 3, Loss: 0.588936\n",
      "Epoch: 4, Loss: 0.539130\n",
      "Epoch: 5, Loss: 0.374154\n",
      "Epoch: 6, Loss: 0.497558\n",
      "Epoch: 7, Loss: 0.407338\n",
      "Epoch: 8, Loss: 0.360662\n",
      "Epoch: 9, Loss: 0.464664\n",
      "Epoch: 10, Loss: 0.707745\n",
      "Epoch: 11, Loss: 0.378857\n",
      "Epoch: 12, Loss: 0.381539\n",
      "Epoch: 13, Loss: 0.929366\n",
      "Epoch: 14, Loss: 0.449161\n",
      "Epoch: 15, Loss: 0.560549\n",
      "Epoch: 16, Loss: 0.613699\n",
      "Epoch: 17, Loss: 0.508855\n",
      "Epoch: 18, Loss: 0.564652\n",
      "Epoch: 19, Loss: 0.515674\n",
      "Epoch: 20, Loss: 0.240516\n",
      "Epoch: 21, Loss: 0.579070\n",
      "Epoch: 22, Loss: 0.674398\n",
      "Epoch: 23, Loss: 0.462303\n",
      "Epoch: 24, Loss: 0.443323\n",
      "Epoch: 25, Loss: 0.539584\n",
      "Epoch: 26, Loss: 0.485976\n",
      "Epoch: 27, Loss: 0.426917\n",
      "Epoch: 28, Loss: 0.269438\n",
      "Epoch: 29, Loss: 0.658422\n",
      "Epoch: 30, Loss: 0.466345\n",
      "Epoch: 31, Loss: 0.536858\n",
      "Epoch: 32, Loss: 0.404289\n",
      "Epoch: 33, Loss: 0.282232\n",
      "Epoch: 34, Loss: 0.479263\n",
      "Epoch: 35, Loss: 0.290165\n",
      "Epoch: 36, Loss: 0.315313\n",
      "Epoch: 37, Loss: 0.343888\n",
      "Epoch: 38, Loss: 0.653887\n",
      "Epoch: 39, Loss: 0.307089\n",
      "Epoch: 40, Loss: 0.321566\n",
      "Epoch: 41, Loss: 0.437731\n",
      "Epoch: 42, Loss: 0.497780\n",
      "Epoch: 43, Loss: 0.806360\n",
      "Epoch: 44, Loss: 0.331059\n",
      "Epoch: 45, Loss: 0.355293\n",
      "Epoch: 46, Loss: 0.340883\n",
      "Epoch: 47, Loss: 0.759834\n",
      "Epoch: 48, Loss: 0.436444\n",
      "Epoch: 49, Loss: 0.361562\n",
      "Epoch: 50, Loss: 0.354813\n",
      "Epoch: 51, Loss: 0.530704\n",
      "Epoch: 52, Loss: 0.278332\n",
      "Epoch: 53, Loss: 0.289342\n",
      "Epoch: 54, Loss: 0.219996\n",
      "Epoch: 55, Loss: 0.377768\n",
      "Epoch: 56, Loss: 0.542454\n",
      "Epoch: 57, Loss: 0.267877\n",
      "Epoch: 58, Loss: 0.331484\n",
      "Epoch: 59, Loss: 0.367049\n",
      "Epoch: 60, Loss: 0.227856\n",
      "Epoch: 61, Loss: 0.558074\n",
      "Epoch: 62, Loss: 0.231800\n",
      "Epoch: 63, Loss: 0.541946\n",
      "Epoch: 64, Loss: 0.313598\n",
      "Epoch: 65, Loss: 0.417134\n",
      "Epoch: 66, Loss: 0.271306\n",
      "Epoch: 67, Loss: 0.260705\n",
      "Epoch: 68, Loss: 0.197558\n",
      "Epoch: 69, Loss: 0.290678\n",
      "Epoch: 70, Loss: 0.130882\n",
      "Epoch: 71, Loss: 0.197317\n",
      "Epoch: 72, Loss: 0.204608\n",
      "Epoch: 73, Loss: 0.142477\n",
      "Epoch: 74, Loss: 0.424631\n",
      "Epoch: 75, Loss: 0.213768\n",
      "Epoch: 76, Loss: 0.420127\n",
      "Epoch: 77, Loss: 0.144825\n",
      "Epoch: 78, Loss: 0.208901\n",
      "Epoch: 79, Loss: 0.500770\n",
      "Epoch: 80, Loss: 0.163234\n",
      "Epoch: 81, Loss: 0.200590\n",
      "Epoch: 82, Loss: 0.221373\n",
      "Epoch: 83, Loss: 0.440782\n",
      "Epoch: 84, Loss: 0.095603\n",
      "Epoch: 85, Loss: 0.133806\n",
      "Epoch: 86, Loss: 0.250632\n",
      "Epoch: 87, Loss: 0.195940\n",
      "Epoch: 88, Loss: 0.152434\n",
      "Epoch: 89, Loss: 0.172890\n",
      "Epoch: 90, Loss: 0.174134\n",
      "Epoch: 91, Loss: 0.161531\n",
      "Epoch: 92, Loss: 0.386808\n",
      "Epoch: 93, Loss: 0.166344\n",
      "Epoch: 94, Loss: 0.117473\n",
      "Epoch: 95, Loss: 0.378746\n",
      "Epoch: 96, Loss: 0.124023\n",
      "Epoch: 97, Loss: 0.309781\n",
      "Epoch: 98, Loss: 0.056598\n",
      "Epoch: 99, Loss: 0.310603\n"
     ]
    }
   ],
   "source": [
    "train_loader = torch.utils.data.DataLoader(cifar2, batch_size=64, shuffle=True)\n",
    "model = nn.Sequential(nn.Linear(768, 512),\n",
    "                     nn.Tanh(),\n",
    "                     nn.Linear(512, 2),\n",
    "                     nn.LogSoftmax(dim=1))\n",
    "learning_rate = 1e-2\n",
    "optimizer = optim.SGD(model.parameters(), lr=learning_rate)\n",
    "loss_fn = nn.NLLLoss()\n",
    "n_epochs = 100\n",
    "for epoch in range(n_epochs):\n",
    "    for imgs, labels in train_loader:\n",
    "        batch_size = imgs.shape[0]\n",
    "        outputs = model(imgs.view(batch_size, -1))\n",
    "        loss = loss_fn(outputs, labels)\n",
    "        \n",
    "        optimizer.zero_grad()\n",
    "        loss.backward()\n",
    "        optimizer.step()\n",
    "    print(\"Epoch: %d, Loss: %f\" % (epoch, float(loss)))"
   ]
  },
  {
   "cell_type": "code",
   "execution_count": 13,
   "metadata": {},
   "outputs": [
    {
     "name": "stdout",
     "output_type": "stream",
     "text": [
      "Loss: 0.579899\n",
      "Loss: 0.548298\n",
      "Loss: 0.664709\n",
      "Loss: 0.858379\n",
      "Loss: 0.554908\n",
      "Loss: 0.707828\n",
      "Loss: 0.519943\n",
      "Loss: 0.693532\n",
      "Loss: 0.501527\n",
      "Loss: 0.613036\n",
      "Loss: 0.702371\n",
      "Loss: 0.382868\n",
      "Loss: 0.530979\n",
      "Loss: 0.469181\n",
      "Loss: 0.580267\n",
      "Loss: 0.451237\n",
      "Loss: 0.653985\n",
      "Loss: 0.831657\n",
      "Loss: 0.448500\n",
      "Loss: 0.596028\n",
      "Loss: 0.358265\n",
      "Loss: 0.549296\n",
      "Loss: 0.516873\n",
      "Loss: 0.628084\n",
      "Loss: 0.599180\n",
      "Loss: 0.809359\n",
      "Loss: 0.691487\n",
      "Loss: 0.600798\n",
      "Loss: 0.435395\n",
      "Loss: 0.463299\n",
      "Loss: 0.414284\n",
      "Loss: 0.330917\n",
      "Accuracy: %f 0.751\n"
     ]
    }
   ],
   "source": [
    "val_loader = torch.utils.data.DataLoader(cifar2_val, batch_size=64, shuffle=False)\n",
    "correct = 0\n",
    "total = 0\n",
    "with torch.no_grad():\n",
    "    for imgs, labels in val_loader:\n",
    "        batch_size = imgs.shape[0]\n",
    "        outputs = model(imgs.view(batch_size, -1))\n",
    "        loss = loss_fn(outputs, labels)\n",
    "        _, predicted = torch.max(outputs, dim=1)\n",
    "        total += labels.shape[0]\n",
    "        correct += int((predicted == labels).sum())\n",
    "        print(\"Loss: %f\" % float(loss))\n",
    "print(\"Accuracy: %f\", correct / total)"
   ]
  },
  {
   "cell_type": "markdown",
   "metadata": {},
   "source": [
    "- overfittingは良くなっているそうです！\n",
    "- AccuracyとLossは違う！"
   ]
  },
  {
   "cell_type": "markdown",
   "metadata": {},
   "source": [
    "### 復習\n",
    "- The ideal loss function for classification in this case is obtained by using the output of softmax as the input of a non-negative log likelihood function.\n",
    "    - The combination of softmax and such loss is called cross entropy in PyTorch."
   ]
  },
  {
   "cell_type": "code",
   "execution_count": null,
   "metadata": {},
   "outputs": [],
   "source": []
  }
 ],
 "metadata": {
  "kernelspec": {
   "display_name": "Python 3",
   "language": "python",
   "name": "python3"
  },
  "language_info": {
   "codemirror_mode": {
    "name": "ipython",
    "version": 3
   },
   "file_extension": ".py",
   "mimetype": "text/x-python",
   "name": "python",
   "nbconvert_exporter": "python",
   "pygments_lexer": "ipython3",
   "version": "3.6.9"
  }
 },
 "nbformat": 4,
 "nbformat_minor": 4
}
